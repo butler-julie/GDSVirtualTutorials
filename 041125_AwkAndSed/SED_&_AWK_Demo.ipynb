{
  "nbformat": 4,
  "nbformat_minor": 0,
  "metadata": {
    "colab": {
      "provenance": []
    },
    "kernelspec": {
      "name": "python3",
      "display_name": "Python 3"
    },
    "language_info": {
      "name": "python"
    }
  },
  "cells": [
    {
      "cell_type": "markdown",
      "source": [
        "# We all deal in plain text at some level"
      ],
      "metadata": {
        "id": "_yIdBXQeyMCS"
      }
    },
    {
      "cell_type": "markdown",
      "source": [
        "## How much of your data is in text or is converted to a text format at some point?"
      ],
      "metadata": {
        "id": "MAxSBWmlyP-E"
      }
    },
    {
      "cell_type": "markdown",
      "source": [
        "### Let's generate some fake data to play with:"
      ],
      "metadata": {
        "id": "qKfbIngE_I3g"
      }
    },
    {
      "cell_type": "code",
      "execution_count": null,
      "metadata": {
        "id": "JR1Rzlau7fod"
      },
      "outputs": [],
      "source": [
        "! mkdir demofiles"
      ]
    },
    {
      "cell_type": "code",
      "source": [
        "import pandas as pd\n",
        "import random\n",
        "import os"
      ],
      "metadata": {
        "id": "NzT8Y3v4zPSg"
      },
      "execution_count": null,
      "outputs": []
    },
    {
      "cell_type": "code",
      "source": [
        "df = pd.DataFrame({\n",
        "    'letter': list(map(lambda x: chr(x), range(ord('a'), ord('z')+1))),\n",
        "    'number': range(1,52,2),\n",
        "    'bool': [not not random.randint(0,2) for i in range(26)]\n",
        "})"
      ],
      "metadata": {
        "id": "9g4xh_1XzW5T"
      },
      "execution_count": null,
      "outputs": []
    },
    {
      "cell_type": "code",
      "source": [
        "df.to_csv(os.path.join(\"demofiles\",\"data1.csv\"))"
      ],
      "metadata": {
        "id": "iZspFPIP0gS6"
      },
      "execution_count": null,
      "outputs": []
    },
    {
      "cell_type": "code",
      "source": [
        "!ls demofiles"
      ],
      "metadata": {
        "colab": {
          "base_uri": "https://localhost:8080/"
        },
        "id": "t3NGcoXP8VNt",
        "outputId": "cfd29408-6099-4d73-9744-14c19e4a96ce"
      },
      "execution_count": null,
      "outputs": [
        {
          "output_type": "stream",
          "name": "stdout",
          "text": [
            "data1.csv\n"
          ]
        }
      ]
    },
    {
      "cell_type": "markdown",
      "source": [
        "## SED is a purpose-built tool for editing text programmatically, it's a \"stream editor\""
      ],
      "metadata": {
        "id": "_CUP4h2SLQpB"
      }
    },
    {
      "cell_type": "markdown",
      "source": [
        "### sed will read a file and output with changes we can specify"
      ],
      "metadata": {
        "id": "6fXoqbg0DYsS"
      }
    },
    {
      "cell_type": "code",
      "source": [
        "# For example, we can remove the header of this file, with the 'd' command\n",
        "! sed '1d' ./demofiles/data1.csv"
      ],
      "metadata": {
        "colab": {
          "base_uri": "https://localhost:8080/"
        },
        "id": "3UUXOIbbKBtq",
        "outputId": "b8a7b737-6cf7-4a1e-dcce-b185d3f1076c"
      },
      "execution_count": null,
      "outputs": [
        {
          "output_type": "stream",
          "name": "stdout",
          "text": [
            "0,a,1,True\n",
            "1,b,3,False\n",
            "2,c,5,True\n",
            "3,d,7,True\n",
            "4,e,9,False\n",
            "5,f,11,True\n",
            "6,g,13,True\n",
            "7,h,15,True\n",
            "8,i,17,False\n",
            "9,j,19,True\n",
            "10,k,21,False\n",
            "11,l,23,True\n",
            "12,m,25,False\n",
            "13,n,27,True\n",
            "14,o,29,True\n",
            "15,p,31,True\n",
            "16,q,33,True\n",
            "17,r,35,True\n",
            "18,s,37,True\n",
            "19,t,39,False\n",
            "20,u,41,True\n",
            "21,v,43,True\n",
            "22,w,45,True\n",
            "23,x,47,True\n",
            "24,y,49,True\n",
            "25,z,51,False\n"
          ]
        }
      ]
    },
    {
      "cell_type": "code",
      "source": [
        "# We can also remove the first 10 lines\n",
        "! sed '1,10d' ./demofiles/data1.csv"
      ],
      "metadata": {
        "colab": {
          "base_uri": "https://localhost:8080/"
        },
        "id": "mW9tt66yNmV7",
        "outputId": "68ec4be4-9362-490d-c6b3-44c9e1bf0098"
      },
      "execution_count": null,
      "outputs": [
        {
          "output_type": "stream",
          "name": "stdout",
          "text": [
            "9,j,19,True\n",
            "10,k,21,False\n",
            "11,l,23,True\n",
            "12,m,25,False\n",
            "13,n,27,True\n",
            "14,o,29,True\n",
            "15,p,31,True\n",
            "16,q,33,True\n",
            "17,r,35,True\n",
            "18,s,37,True\n",
            "19,t,39,False\n",
            "20,u,41,True\n",
            "21,v,43,True\n",
            "22,w,45,True\n",
            "23,x,47,True\n",
            "24,y,49,True\n",
            "25,z,51,False\n"
          ]
        }
      ]
    },
    {
      "cell_type": "code",
      "source": [
        "# We don't have to start from the beginning of the file\n",
        "! sed '11, 15d' ./demofiles/data1.csv"
      ],
      "metadata": {
        "colab": {
          "base_uri": "https://localhost:8080/"
        },
        "id": "i0zRDAU7_kLf",
        "outputId": "a81cef96-03e1-4966-e2f1-fb5c176f1df8"
      },
      "execution_count": 112,
      "outputs": [
        {
          "output_type": "stream",
          "name": "stdout",
          "text": [
            ",letter,number,bool\n",
            "0,a,1,True\n",
            "1,b,3,False\n",
            "2,c,5,True\n",
            "3,d,7,True\n",
            "4,e,9,False\n",
            "5,f,11,True\n",
            "6,g,13,True\n",
            "7,h,15,True\n",
            "8,i,17,False\n",
            "14,o,29,True\n",
            "15,p,31,True\n",
            "16,q,33,True\n",
            "17,r,35,True\n",
            "18,s,37,True\n",
            "19,t,39,False\n",
            "20,u,41,True\n",
            "21,v,43,True\n",
            "22,w,45,True\n",
            "23,x,47,True\n",
            "24,y,49,True\n",
            "25,z,51,False\n"
          ]
        }
      ]
    },
    {
      "cell_type": "markdown",
      "source": [
        "### By default, sed prints everything (except deleted lines) We can print selectively '-n'"
      ],
      "metadata": {
        "id": "Ba8h2I2qAlMP"
      }
    },
    {
      "cell_type": "code",
      "source": [
        "# What if we're interested in isolating only rows which contain \"True\" somewhere?\n",
        "! sed -n '/True/p' ./demofiles/data1.csv"
      ],
      "metadata": {
        "colab": {
          "base_uri": "https://localhost:8080/"
        },
        "id": "7KHakgRaNr4H",
        "outputId": "c9a530c0-1ece-4938-85fc-b6006bbe1e76"
      },
      "execution_count": 114,
      "outputs": [
        {
          "output_type": "stream",
          "name": "stdout",
          "text": [
            "0,a,1,True\n",
            "2,c,5,True\n",
            "3,d,7,True\n",
            "5,f,11,True\n",
            "6,g,13,True\n",
            "7,h,15,True\n",
            "9,j,19,True\n",
            "11,l,23,True\n",
            "13,n,27,True\n",
            "14,o,29,True\n",
            "15,p,31,True\n",
            "16,q,33,True\n",
            "17,r,35,True\n",
            "18,s,37,True\n",
            "20,u,41,True\n",
            "21,v,43,True\n",
            "22,w,45,True\n",
            "23,x,47,True\n",
            "24,y,49,True\n"
          ]
        }
      ]
    },
    {
      "cell_type": "code",
      "source": [
        "# Print only line 17\n",
        "! sed -n '17p' ./demofiles/data1.csv"
      ],
      "metadata": {
        "colab": {
          "base_uri": "https://localhost:8080/"
        },
        "id": "qFTWvpXFHTT5",
        "outputId": "025af0ad-451f-471f-b781-e09c6175b9dc"
      },
      "execution_count": 119,
      "outputs": [
        {
          "output_type": "stream",
          "name": "stdout",
          "text": [
            "15,p,31,True\n"
          ]
        }
      ]
    },
    {
      "cell_type": "code",
      "source": [
        "# Print line that contains 17\n",
        "! sed -n '/17/p' ./demofiles/data1.csv"
      ],
      "metadata": {
        "colab": {
          "base_uri": "https://localhost:8080/"
        },
        "id": "5sn-PGFzOBG8",
        "outputId": "3dab73ee-9e47-4172-ae69-d276d07bb513"
      },
      "execution_count": null,
      "outputs": [
        {
          "output_type": "stream",
          "name": "stdout",
          "text": [
            "8,i,17,False\n",
            "17,r,35,True\n"
          ]
        }
      ]
    },
    {
      "cell_type": "code",
      "source": [
        "# Print line that _starts_ with 17\n",
        "! sed -n '/^17/p' ./demofiles/data1.csv"
      ],
      "metadata": {
        "colab": {
          "base_uri": "https://localhost:8080/"
        },
        "id": "wA2cV7grOQfv",
        "outputId": "20e28e24-eeff-4870-c88f-682267209d57"
      },
      "execution_count": null,
      "outputs": [
        {
          "output_type": "stream",
          "name": "stdout",
          "text": [
            "17,r,35,True\n"
          ]
        }
      ]
    },
    {
      "cell_type": "code",
      "source": [
        "# Delete every line between a line that starts with 11 and starts with 15\n",
        "! sed '/^11/,/^15/d' ./demofiles/data1.csv"
      ],
      "metadata": {
        "colab": {
          "base_uri": "https://localhost:8080/"
        },
        "id": "q5FV4nkhAHsJ",
        "outputId": "063c08a9-e34c-4aa8-ffb5-de70277824b7"
      },
      "execution_count": 113,
      "outputs": [
        {
          "output_type": "stream",
          "name": "stdout",
          "text": [
            ",letter,number,bool\n",
            "0,a,1,True\n",
            "1,b,3,False\n",
            "2,c,5,True\n",
            "3,d,7,True\n",
            "4,e,9,False\n",
            "5,f,11,True\n",
            "6,g,13,True\n",
            "7,h,15,True\n",
            "8,i,17,False\n",
            "9,j,19,True\n",
            "10,k,21,False\n",
            "16,q,33,True\n",
            "17,r,35,True\n",
            "18,s,37,True\n",
            "19,t,39,False\n",
            "20,u,41,True\n",
            "21,v,43,True\n",
            "22,w,45,True\n",
            "23,x,47,True\n",
            "24,y,49,True\n",
            "25,z,51,False\n"
          ]
        }
      ]
    },
    {
      "cell_type": "code",
      "source": [
        "# $ indicates the end of a line\n",
        "! sed -n '/True$/p' ./demofiles/data1.csv"
      ],
      "metadata": {
        "colab": {
          "base_uri": "https://localhost:8080/"
        },
        "id": "iHSXMHenSkyl",
        "outputId": "110699f7-ce5d-40ba-acde-bf46e99ab519"
      },
      "execution_count": null,
      "outputs": [
        {
          "output_type": "stream",
          "name": "stdout",
          "text": [
            "0,a,1,True\n",
            "2,c,5,True\n",
            "3,d,7,True\n",
            "5,f,11,True\n",
            "6,g,13,True\n",
            "7,h,15,True\n",
            "9,j,19,True\n",
            "11,l,23,True\n",
            "13,n,27,True\n",
            "14,o,29,True\n",
            "15,p,31,True\n",
            "16,q,33,True\n",
            "17,r,35,True\n",
            "18,s,37,True\n",
            "20,u,41,True\n",
            "21,v,43,True\n",
            "22,w,45,True\n",
            "23,x,47,True\n",
            "24,y,49,True\n"
          ]
        }
      ]
    },
    {
      "cell_type": "code",
      "source": [
        "# So, this won't print anything because it won't match anything\n",
        "! sed -n '/18$/p' ./demofiles/data1.csv"
      ],
      "metadata": {
        "id": "nDk0QQmUOXrZ"
      },
      "execution_count": 120,
      "outputs": []
    },
    {
      "cell_type": "code",
      "source": [
        "# This will remove all empty lines\n",
        "! sed '/^$/d' ./demofiles/data1.csv"
      ],
      "metadata": {
        "colab": {
          "base_uri": "https://localhost:8080/"
        },
        "id": "4m5zF4JwS8xV",
        "outputId": "437e610e-74d5-4bad-e715-f3ec6d8e2552"
      },
      "execution_count": null,
      "outputs": [
        {
          "output_type": "stream",
          "name": "stdout",
          "text": [
            ",letter,number,bool\n",
            "0,a,1,True\n",
            "1,b,3,False\n",
            "2,c,5,True\n",
            "3,d,7,True\n",
            "4,e,9,False\n",
            "5,f,11,True\n",
            "6,g,13,True\n",
            "7,h,15,True\n",
            "8,i,17,False\n",
            "9,j,19,True\n",
            "10,k,21,False\n",
            "11,l,23,True\n",
            "12,m,25,False\n",
            "13,n,27,True\n",
            "14,o,29,True\n",
            "15,p,31,True\n",
            "16,q,33,True\n",
            "17,r,35,True\n",
            "18,s,37,True\n",
            "19,t,39,False\n",
            "20,u,41,True\n",
            "21,v,43,True\n",
            "22,w,45,True\n",
            "23,x,47,True\n",
            "24,y,49,True\n",
            "25,z,51,False\n"
          ]
        }
      ]
    },
    {
      "cell_type": "markdown",
      "source": [
        "## sed can also _replace_ values"
      ],
      "metadata": {
        "id": "IJEOa0GKYn3B"
      }
    },
    {
      "cell_type": "code",
      "source": [
        "! sed 's/True/1/g' ./demofiles/data1.csv"
      ],
      "metadata": {
        "colab": {
          "base_uri": "https://localhost:8080/"
        },
        "id": "4j7cA3EkYsKa",
        "outputId": "12a8b685-ba33-4ec6-a0a2-fc3e6eab9d52"
      },
      "execution_count": 126,
      "outputs": [
        {
          "output_type": "stream",
          "name": "stdout",
          "text": [
            ",letter,number,bool\n",
            "0,a,1,1\n",
            "1,b,3,False\n",
            "2,c,5,1\n",
            "3,d,7,1\n",
            "4,e,9,False\n",
            "5,f,11,1\n",
            "6,g,13,1\n",
            "7,h,15,1\n",
            "8,i,17,False\n",
            "9,j,19,1\n",
            "10,k,21,False\n",
            "11,l,23,1\n",
            "12,m,25,False\n",
            "13,n,27,1\n",
            "14,o,29,1\n",
            "15,p,31,1\n",
            "16,q,33,1\n",
            "17,r,35,1\n",
            "18,s,37,1\n",
            "19,t,39,False\n",
            "20,u,41,1\n",
            "21,v,43,1\n",
            "22,w,45,1\n",
            "23,x,47,1\n",
            "24,y,49,1\n",
            "25,z,51,False\n"
          ]
        }
      ]
    },
    {
      "cell_type": "code",
      "source": [
        "# We can also \"chain\" transformations one after the other\n",
        "! sed 's/True/1/g;s/False/0/g' ./demofiles/data1.csv"
      ],
      "metadata": {
        "colab": {
          "base_uri": "https://localhost:8080/"
        },
        "id": "KsLxwnCZTMq9",
        "outputId": "2bbd0e92-b8d5-4577-a1c9-fc16ebc53b28"
      },
      "execution_count": null,
      "outputs": [
        {
          "output_type": "stream",
          "name": "stdout",
          "text": [
            ",letter,number,bool\n",
            "0,a,1,1\n",
            "1,b,3,0\n",
            "2,c,5,1\n",
            "3,d,7,1\n",
            "4,e,9,0\n",
            "5,f,11,1\n",
            "6,g,13,1\n",
            "7,h,15,1\n",
            "8,i,17,0\n",
            "9,j,19,1\n",
            "10,k,21,0\n",
            "11,l,23,1\n",
            "12,m,25,0\n",
            "13,n,27,1\n",
            "14,o,29,1\n",
            "15,p,31,1\n",
            "16,q,33,1\n",
            "17,r,35,1\n",
            "18,s,37,1\n",
            "19,t,39,0\n",
            "20,u,41,1\n",
            "21,v,43,1\n",
            "22,w,45,1\n",
            "23,x,47,1\n",
            "24,y,49,1\n",
            "25,z,51,0\n"
          ]
        }
      ]
    },
    {
      "cell_type": "code",
      "source": [
        "# These transformations can depend on previous ones\n",
        "! sed 's/True/T/g;s/False/F/g;s/T/1/g;s/F/0/g' ./demofiles/data1.csv"
      ],
      "metadata": {
        "colab": {
          "base_uri": "https://localhost:8080/"
        },
        "id": "G9MtYLohY2xq",
        "outputId": "386906cb-a765-4dbe-b22a-5874850794b5"
      },
      "execution_count": 128,
      "outputs": [
        {
          "output_type": "stream",
          "name": "stdout",
          "text": [
            ",letter,number,bool\n",
            "0,a,1,1\n",
            "1,b,3,0\n",
            "2,c,5,1\n",
            "3,d,7,1\n",
            "4,e,9,0\n",
            "5,f,11,1\n",
            "6,g,13,1\n",
            "7,h,15,1\n",
            "8,i,17,0\n",
            "9,j,19,1\n",
            "10,k,21,0\n",
            "11,l,23,1\n",
            "12,m,25,0\n",
            "13,n,27,1\n",
            "14,o,29,1\n",
            "15,p,31,1\n",
            "16,q,33,1\n",
            "17,r,35,1\n",
            "18,s,37,1\n",
            "19,t,39,0\n",
            "20,u,41,1\n",
            "21,v,43,1\n",
            "22,w,45,1\n",
            "23,x,47,1\n",
            "24,y,49,1\n",
            "25,z,51,0\n"
          ]
        }
      ]
    },
    {
      "cell_type": "code",
      "source": [
        "# We can remove, then insert data\n",
        "! sed '/^0/,/^10/c\\[REMOVED]' ./demofiles/data1.csv"
      ],
      "metadata": {
        "colab": {
          "base_uri": "https://localhost:8080/"
        },
        "id": "QMctpHu4Teka",
        "outputId": "1282618f-144d-49b3-cb26-039a8216d2cd"
      },
      "execution_count": null,
      "outputs": [
        {
          "output_type": "stream",
          "name": "stdout",
          "text": [
            ",letter,number,bool\n",
            "[REMOVED]\n",
            "11,l,23,True\n",
            "12,m,25,False\n",
            "13,n,27,True\n",
            "14,o,29,True\n",
            "15,p,31,True\n",
            "16,q,33,True\n",
            "17,r,35,True\n",
            "18,s,37,True\n",
            "19,t,39,False\n",
            "20,u,41,True\n",
            "21,v,43,True\n",
            "22,w,45,True\n",
            "23,x,47,True\n",
            "24,y,49,True\n",
            "25,z,51,False\n"
          ]
        }
      ]
    },
    {
      "cell_type": "code",
      "source": [
        "# Perhaps I wish to remove all numbers\n",
        "! sed '1d;s/[0-9],//g' ./demofiles/data1.csv"
      ],
      "metadata": {
        "colab": {
          "base_uri": "https://localhost:8080/"
        },
        "id": "KN4zwT2zZR9G",
        "outputId": "e6db1a9f-955a-46fe-8428-0cedb17b59aa"
      },
      "execution_count": 129,
      "outputs": [
        {
          "output_type": "stream",
          "name": "stdout",
          "text": [
            "a,True\n",
            "b,False\n",
            "c,True\n",
            "d,True\n",
            "e,False\n",
            "f,1True\n",
            "g,1True\n",
            "h,1True\n",
            "i,1False\n",
            "j,1True\n",
            "1k,2False\n",
            "1l,2True\n",
            "1m,2False\n",
            "1n,2True\n",
            "1o,2True\n",
            "1p,3True\n",
            "1q,3True\n",
            "1r,3True\n",
            "1s,3True\n",
            "1t,3False\n",
            "2u,4True\n",
            "2v,4True\n",
            "2w,4True\n",
            "2x,4True\n",
            "2y,4True\n",
            "2z,5False\n"
          ]
        }
      ]
    },
    {
      "cell_type": "code",
      "source": [
        "# We use the metacharacter + to match \"one or more\"\n",
        "! sed -E '1d;s/[0-9]+,//g' ./demofiles/data1.csv"
      ],
      "metadata": {
        "colab": {
          "base_uri": "https://localhost:8080/"
        },
        "id": "E-loxtMZYion",
        "outputId": "459cbef9-a7ec-4f39-bc11-28b2624c3f80"
      },
      "execution_count": 130,
      "outputs": [
        {
          "output_type": "stream",
          "name": "stdout",
          "text": [
            "a,True\n",
            "b,False\n",
            "c,True\n",
            "d,True\n",
            "e,False\n",
            "f,True\n",
            "g,True\n",
            "h,True\n",
            "i,False\n",
            "j,True\n",
            "k,False\n",
            "l,True\n",
            "m,False\n",
            "n,True\n",
            "o,True\n",
            "p,True\n",
            "q,True\n",
            "r,True\n",
            "s,True\n",
            "t,False\n",
            "u,True\n",
            "v,True\n",
            "w,True\n",
            "x,True\n",
            "y,True\n",
            "z,False\n"
          ]
        }
      ]
    },
    {
      "cell_type": "code",
      "source": [
        "# We can even match multiple values\n",
        "! sed -E '1d;s/,(True|False)$//g' ./demofiles/data1.csv"
      ],
      "metadata": {
        "colab": {
          "base_uri": "https://localhost:8080/"
        },
        "id": "iU9y4gg9aH5K",
        "outputId": "b49ef2d2-1928-48a0-b4e3-a120804a2407"
      },
      "execution_count": 131,
      "outputs": [
        {
          "output_type": "stream",
          "name": "stdout",
          "text": [
            "0,a,1\n",
            "1,b,3\n",
            "2,c,5\n",
            "3,d,7\n",
            "4,e,9\n",
            "5,f,11\n",
            "6,g,13\n",
            "7,h,15\n",
            "8,i,17\n",
            "9,j,19\n",
            "10,k,21\n",
            "11,l,23\n",
            "12,m,25\n",
            "13,n,27\n",
            "14,o,29\n",
            "15,p,31\n",
            "16,q,33\n",
            "17,r,35\n",
            "18,s,37\n",
            "19,t,39\n",
            "20,u,41\n",
            "21,v,43\n",
            "22,w,45\n",
            "23,x,47\n",
            "24,y,49\n",
            "25,z,51\n"
          ]
        }
      ]
    },
    {
      "cell_type": "markdown",
      "source": [
        "### Let's say I wish to censor phone numbers in a text document\\"
      ],
      "metadata": {
        "id": "twJYif0OZqaA"
      }
    },
    {
      "cell_type": "code",
      "source": [
        "!echo 500 867-5309\n",
        "!echo 500 867-5309 | grep -E '[0-9][0-9][0-9] [0-9][0-9][0-9]-[0-9][0-9][0-9][0-9]'\n",
        "!echo \"(500) 867-5309\" | grep -E '^\\([0-9][0-9][0-9]\\) [0-9][0-9][0-9]-[0-9][0-9][0-9][0-9]'\n",
        "!echo \"500 867-5309\" | grep -E '^\\([0-9][0-9][0-9]\\) [0-9][0-9][0-9]-[0-9][0-9][0-9][0-9]'\n",
        "!echo \"500 867-5309\" | grep -E '^\\(?[0-9][0-9][0-9]\\)? [0-9][0-9][0-9]-[0-9][0-9][0-9][0-9]'\n",
        "!echo \"500 867-5309\" | sed -E 's/^\\(?[0-9][0-9][0-9]\\)? [0-9][0-9][0-9]-[0-9][0-9][0-9][0-9]/xxx xxx-xxxx/g'\n",
        "!echo \"500 867-5309\" | sed -E 's/^\\(?[0-9]*\\)? [0-9]+-[0-9]+/xxx xxx-xxxx/g'"
      ],
      "metadata": {
        "colab": {
          "base_uri": "https://localhost:8080/"
        },
        "id": "vbCsjJ6SPXvp",
        "outputId": "dfba7bdb-d559-4b20-8d7c-9abae140ace3"
      },
      "execution_count": 132,
      "outputs": [
        {
          "output_type": "stream",
          "name": "stdout",
          "text": [
            "500 867-5309\n",
            "500 867-5309\n",
            "(500) 867-5309\n",
            "500 867-5309\n",
            "xxx xxx-xxxx\n",
            "xxx xxx-xxxx\n"
          ]
        }
      ]
    },
    {
      "cell_type": "markdown",
      "source": [
        "## sed can be used to edit files \"in-place\" and be called from a script"
      ],
      "metadata": {
        "id": "3s76pYOxZ3T_"
      }
    },
    {
      "cell_type": "code",
      "source": [
        "%%file demofiles/replace.sh\n",
        "\n",
        "#!/bin/bash\n",
        "\n",
        "echo Enter val to replace:\n",
        "read val1\n",
        "echo Enter new val:\n",
        "read val2\n",
        "#echo DENS: $dens\n",
        "sed -i \"s/$val1/$val2/g\" $1"
      ],
      "metadata": {
        "colab": {
          "base_uri": "https://localhost:8080/"
        },
        "id": "P6eAxkkga27V",
        "outputId": "dc4f119a-bd5f-4dad-8a5e-d80a3f0b96a3"
      },
      "execution_count": null,
      "outputs": [
        {
          "output_type": "stream",
          "name": "stdout",
          "text": [
            "Writing demofiles/replace.sh\n"
          ]
        }
      ]
    },
    {
      "cell_type": "code",
      "source": [
        "! cp demofiles/data1.csv demofiles/data2.csv"
      ],
      "metadata": {
        "id": "Tf4c5xRFbIVA"
      },
      "execution_count": null,
      "outputs": []
    },
    {
      "cell_type": "code",
      "source": [
        "! bash demofiles/replace.sh demofiles/data2.csv"
      ],
      "metadata": {
        "colab": {
          "base_uri": "https://localhost:8080/"
        },
        "id": "ndLH6bO-bOYY",
        "outputId": "91e42c44-3a26-4007-fa75-3e6c48de4164"
      },
      "execution_count": null,
      "outputs": [
        {
          "output_type": "stream",
          "name": "stdout",
          "text": [
            "Enter val to replace:\n",
            "18\n",
            "Enter new val:\n",
            "1000\n"
          ]
        }
      ]
    },
    {
      "cell_type": "code",
      "source": [
        "! cat demofiles/data2.csv"
      ],
      "metadata": {
        "colab": {
          "base_uri": "https://localhost:8080/"
        },
        "id": "unYjkx1SbdL4",
        "outputId": "6e08217b-3ae5-485d-a0e7-304427745589"
      },
      "execution_count": null,
      "outputs": [
        {
          "output_type": "stream",
          "name": "stdout",
          "text": [
            ",letter,number,bool\n",
            "0,a,1,True\n",
            "1,b,3,False\n",
            "2,c,5,True\n",
            "3,d,7,True\n",
            "4,e,9,False\n",
            "5,f,11,True\n",
            "6,g,13,True\n",
            "7,h,15,True\n",
            "8,i,17,False\n",
            "9,j,19,True\n",
            "10,k,21,False\n",
            "11,l,23,True\n",
            "12,m,25,False\n",
            "13,n,27,True\n",
            "14,o,29,True\n",
            "15,p,31,True\n",
            "16,q,33,True\n",
            "17,r,35,True\n",
            "1000,s,37,True\n",
            "19,t,39,False\n",
            "20,u,41,True\n",
            "21,v,43,True\n",
            "22,w,45,True\n",
            "23,x,47,True\n",
            "24,y,49,True\n",
            "25,z,51,False\n"
          ]
        }
      ]
    },
    {
      "cell_type": "markdown",
      "source": [
        "## Now let's try some simple awk"
      ],
      "metadata": {
        "id": "FUOM0qT_9vWw"
      }
    },
    {
      "cell_type": "code",
      "source": [
        "! awk -F, '{print $0}' demofiles/data1.csv"
      ],
      "metadata": {
        "colab": {
          "base_uri": "https://localhost:8080/"
        },
        "id": "LImNJXQLg4em",
        "outputId": "9316554a-2907-4a48-a4e6-949aef70038a"
      },
      "execution_count": 134,
      "outputs": [
        {
          "output_type": "stream",
          "name": "stdout",
          "text": [
            ",letter,number,bool\n",
            "0,a,1,True\n",
            "1,b,3,False\n",
            "2,c,5,True\n",
            "3,d,7,True\n",
            "4,e,9,False\n",
            "5,f,11,True\n",
            "6,g,13,True\n",
            "7,h,15,True\n",
            "8,i,17,False\n",
            "9,j,19,True\n",
            "10,k,21,False\n",
            "11,l,23,True\n",
            "12,m,25,False\n",
            "13,n,27,True\n",
            "14,o,29,True\n",
            "15,p,31,True\n",
            "16,q,33,True\n",
            "17,r,35,True\n",
            "18,s,37,True\n",
            "19,t,39,False\n",
            "20,u,41,True\n",
            "21,v,43,True\n",
            "22,w,45,True\n",
            "23,x,47,True\n",
            "24,y,49,True\n",
            "25,z,51,False\n"
          ]
        }
      ]
    },
    {
      "cell_type": "code",
      "source": [
        "!awk -F, '{print $0}' demofiles/data1.csv"
      ],
      "metadata": {
        "colab": {
          "base_uri": "https://localhost:8080/"
        },
        "id": "612P4V-ShoIJ",
        "outputId": "50a213d7-b347-4d9d-c931-d43f4f94a837"
      },
      "execution_count": 135,
      "outputs": [
        {
          "output_type": "stream",
          "name": "stdout",
          "text": [
            ",letter,number,bool\n",
            "0,a,1,True\n",
            "1,b,3,False\n",
            "2,c,5,True\n",
            "3,d,7,True\n",
            "4,e,9,False\n",
            "5,f,11,True\n",
            "6,g,13,True\n",
            "7,h,15,True\n",
            "8,i,17,False\n",
            "9,j,19,True\n",
            "10,k,21,False\n",
            "11,l,23,True\n",
            "12,m,25,False\n",
            "13,n,27,True\n",
            "14,o,29,True\n",
            "15,p,31,True\n",
            "16,q,33,True\n",
            "17,r,35,True\n",
            "18,s,37,True\n",
            "19,t,39,False\n",
            "20,u,41,True\n",
            "21,v,43,True\n",
            "22,w,45,True\n",
            "23,x,47,True\n",
            "24,y,49,True\n",
            "25,z,51,False\n"
          ]
        }
      ]
    },
    {
      "cell_type": "code",
      "source": [
        "# Awk syntax boils down to\n",
        "# patterns and actions in the form:\n",
        "# pattern { action; }\n",
        "# and is particularly useful for dealing with columnar data"
      ],
      "metadata": {
        "id": "Y8XYduRzhpn-"
      },
      "execution_count": 137,
      "outputs": []
    },
    {
      "cell_type": "code",
      "source": [
        "# Awk has special syntax for dealing with columns\n",
        "!awk -F, '{print $1}' demofiles/data1.csv"
      ],
      "metadata": {
        "colab": {
          "base_uri": "https://localhost:8080/"
        },
        "id": "NjZrFw-cia1c",
        "outputId": "580e8276-49f4-4389-ae5c-248fc29f23bb"
      },
      "execution_count": 136,
      "outputs": [
        {
          "output_type": "stream",
          "name": "stdout",
          "text": [
            "\n",
            "0\n",
            "1\n",
            "2\n",
            "3\n",
            "4\n",
            "5\n",
            "6\n",
            "7\n",
            "8\n",
            "9\n",
            "10\n",
            "11\n",
            "12\n",
            "13\n",
            "14\n",
            "15\n",
            "16\n",
            "17\n",
            "18\n",
            "19\n",
            "20\n",
            "21\n",
            "22\n",
            "23\n",
            "24\n",
            "25\n"
          ]
        }
      ]
    },
    {
      "cell_type": "code",
      "source": [
        "# Awk can accept input from STDIN, maybe even preprocessed by sed!\n",
        "! sed '1d' demofiles/data1.csv | awk -F, '{print $1}'"
      ],
      "metadata": {
        "colab": {
          "base_uri": "https://localhost:8080/"
        },
        "id": "BVTz3WpdgaBs",
        "outputId": "56135d46-a40d-441c-ae37-c46d3ac1dd21"
      },
      "execution_count": null,
      "outputs": [
        {
          "output_type": "stream",
          "name": "stdout",
          "text": [
            "0\n",
            "1\n",
            "2\n",
            "3\n",
            "4\n",
            "5\n",
            "6\n",
            "7\n",
            "8\n",
            "9\n",
            "10\n",
            "11\n",
            "12\n",
            "13\n",
            "14\n",
            "15\n",
            "16\n",
            "17\n",
            "18\n",
            "19\n",
            "20\n",
            "21\n",
            "22\n",
            "23\n",
            "24\n",
            "25\n"
          ]
        }
      ]
    },
    {
      "cell_type": "markdown",
      "source": [
        "## Awk can be read from a file, if the program is particularly long"
      ],
      "metadata": {
        "id": "ouTuRuw2aUMI"
      }
    },
    {
      "cell_type": "code",
      "source": [
        "%%file demofiles/true-only.awk\n",
        "\n",
        "BEGIN{\n",
        "    FS=\",\"\n",
        "}\n",
        "{print $0}"
      ],
      "metadata": {
        "colab": {
          "base_uri": "https://localhost:8080/"
        },
        "id": "Yi_Gajzn9Qsk",
        "outputId": "372081d6-7d84-4996-f107-6c4672c26790"
      },
      "execution_count": 138,
      "outputs": [
        {
          "output_type": "stream",
          "name": "stdout",
          "text": [
            "Overwriting demofiles/true-only.awk\n"
          ]
        }
      ]
    },
    {
      "cell_type": "code",
      "source": [
        "!awk -f demofiles/true-only.awk demofiles/data1.csv"
      ],
      "metadata": {
        "colab": {
          "base_uri": "https://localhost:8080/"
        },
        "id": "sE-WXDOU9fyu",
        "outputId": "15462df3-195b-4a46-dd91-2c9f58b94b31"
      },
      "execution_count": 139,
      "outputs": [
        {
          "output_type": "stream",
          "name": "stdout",
          "text": [
            ",letter,number,bool\n",
            "0,a,1,True\n",
            "1,b,3,False\n",
            "2,c,5,True\n",
            "3,d,7,True\n",
            "4,e,9,False\n",
            "5,f,11,True\n",
            "6,g,13,True\n",
            "7,h,15,True\n",
            "8,i,17,False\n",
            "9,j,19,True\n",
            "10,k,21,False\n",
            "11,l,23,True\n",
            "12,m,25,False\n",
            "13,n,27,True\n",
            "14,o,29,True\n",
            "15,p,31,True\n",
            "16,q,33,True\n",
            "17,r,35,True\n",
            "18,s,37,True\n",
            "19,t,39,False\n",
            "20,u,41,True\n",
            "21,v,43,True\n",
            "22,w,45,True\n",
            "23,x,47,True\n",
            "24,y,49,True\n",
            "25,z,51,False\n"
          ]
        }
      ]
    },
    {
      "cell_type": "code",
      "source": [
        "%%file demofiles/true-only.awk\n",
        "\n",
        "BEGIN{\n",
        "    FS=\",\"\n",
        "}\n",
        "$4 == \"True\" {print $0}\n"
      ],
      "metadata": {
        "colab": {
          "base_uri": "https://localhost:8080/"
        },
        "id": "GLNkNt3z3g5F",
        "outputId": "e5f5be1a-6b18-442b-be0e-6e19f1bc0008"
      },
      "execution_count": 140,
      "outputs": [
        {
          "output_type": "stream",
          "name": "stdout",
          "text": [
            "Overwriting demofiles/true-only.awk\n"
          ]
        }
      ]
    },
    {
      "cell_type": "code",
      "source": [
        "!awk -f demofiles/true-only.awk demofiles/data1.csv"
      ],
      "metadata": {
        "id": "X4THG6jI8C5v",
        "outputId": "462cb35d-ad24-49b9-e8f7-66e41370d34b",
        "colab": {
          "base_uri": "https://localhost:8080/"
        }
      },
      "execution_count": 141,
      "outputs": [
        {
          "output_type": "stream",
          "name": "stdout",
          "text": [
            "0,a,1,True\n",
            "2,c,5,True\n",
            "3,d,7,True\n",
            "5,f,11,True\n",
            "6,g,13,True\n",
            "7,h,15,True\n",
            "9,j,19,True\n",
            "11,l,23,True\n",
            "13,n,27,True\n",
            "14,o,29,True\n",
            "15,p,31,True\n",
            "16,q,33,True\n",
            "17,r,35,True\n",
            "18,s,37,True\n",
            "20,u,41,True\n",
            "21,v,43,True\n",
            "22,w,45,True\n",
            "23,x,47,True\n",
            "24,y,49,True\n"
          ]
        }
      ]
    },
    {
      "cell_type": "code",
      "source": [
        "%%file demofiles/true-only.awk\n",
        "\n",
        "BEGIN{\n",
        "    FS=\",\"\n",
        "}\n",
        "$4 == \"True\" {print $2}\n"
      ],
      "metadata": {
        "colab": {
          "base_uri": "https://localhost:8080/"
        },
        "outputId": "fa328b7a-a6e5-4852-dc15-99449ad7c13b",
        "id": "sSC9Hfvyi4xb"
      },
      "execution_count": 142,
      "outputs": [
        {
          "output_type": "stream",
          "name": "stdout",
          "text": [
            "Overwriting demofiles/true-only.awk\n"
          ]
        }
      ]
    },
    {
      "cell_type": "code",
      "source": [
        "!awk -f demofiles/true-only.awk demofiles/data1.csv"
      ],
      "metadata": {
        "colab": {
          "base_uri": "https://localhost:8080/"
        },
        "id": "A_L2k4L5i8su",
        "outputId": "c2b38e50-6fa1-4c05-f64b-64f8f02acabb"
      },
      "execution_count": 143,
      "outputs": [
        {
          "output_type": "stream",
          "name": "stdout",
          "text": [
            "a\n",
            "c\n",
            "d\n",
            "f\n",
            "g\n",
            "h\n",
            "j\n",
            "l\n",
            "n\n",
            "o\n",
            "p\n",
            "q\n",
            "r\n",
            "s\n",
            "u\n",
            "v\n",
            "w\n",
            "x\n",
            "y\n"
          ]
        }
      ]
    },
    {
      "cell_type": "code",
      "source": [
        "%%file demofiles/sum-true.awk\n",
        "\n",
        "BEGIN{\n",
        "    FS=\",\"\n",
        "\n",
        "}\n",
        "$4 == \"True\" {\n",
        "    sum += $3\n",
        "}\n",
        "END {\n",
        "    print sum\n",
        "}\n"
      ],
      "metadata": {
        "colab": {
          "base_uri": "https://localhost:8080/"
        },
        "id": "wN1-HWINjIWg",
        "outputId": "bc40b152-80de-4880-933b-9132bc333e20"
      },
      "execution_count": 144,
      "outputs": [
        {
          "output_type": "stream",
          "name": "stdout",
          "text": [
            "Overwriting demofiles/sum-true.awk\n"
          ]
        }
      ]
    },
    {
      "cell_type": "code",
      "source": [
        "!awk -f demofiles/sum-true.awk demofiles/data1.csv"
      ],
      "metadata": {
        "colab": {
          "base_uri": "https://localhost:8080/"
        },
        "id": "UeDIPm5zjf9h",
        "outputId": "f1a63371-627e-4e72-9e1b-e36c2d69208c"
      },
      "execution_count": 145,
      "outputs": [
        {
          "output_type": "stream",
          "name": "stdout",
          "text": [
            "511\n"
          ]
        }
      ]
    },
    {
      "cell_type": "code",
      "source": [
        "%%file demofiles/sum-true.awk\n",
        "\n",
        "BEGIN{\n",
        "    FS=\",\"\n",
        "\n",
        "}\n",
        "/True/ {\n",
        "    sum += $3\n",
        "}\n",
        "END {\n",
        "    print sum\n",
        "}\n"
      ],
      "metadata": {
        "colab": {
          "base_uri": "https://localhost:8080/"
        },
        "id": "iRzcaqE2lefa",
        "outputId": "d70edc77-3911-497d-8dff-28f1068b8960"
      },
      "execution_count": 146,
      "outputs": [
        {
          "output_type": "stream",
          "name": "stdout",
          "text": [
            "Overwriting demofiles/sum-true.awk\n"
          ]
        }
      ]
    },
    {
      "cell_type": "code",
      "source": [
        "!awk -f demofiles/sum-true.awk demofiles/data1.csv"
      ],
      "metadata": {
        "id": "BEhVpjs5liU5",
        "outputId": "b052d8b8-c78a-44b8-84ec-e06c10aae9ce",
        "colab": {
          "base_uri": "https://localhost:8080/"
        }
      },
      "execution_count": 147,
      "outputs": [
        {
          "output_type": "stream",
          "name": "stdout",
          "text": [
            "511\n"
          ]
        }
      ]
    },
    {
      "cell_type": "code",
      "source": [
        "! wget https://arxiv.org/stats/get_monthly_submissions\n",
        "! mv get_monthly_submissions demofiles"
      ],
      "metadata": {
        "id": "TfsbXm1a8EVD",
        "colab": {
          "base_uri": "https://localhost:8080/"
        },
        "outputId": "519d1d80-9446-4dfa-8357-05276059cc72"
      },
      "execution_count": 110,
      "outputs": [
        {
          "output_type": "stream",
          "name": "stdout",
          "text": [
            "--2025-04-11 13:11:21--  https://arxiv.org/stats/get_monthly_submissions\n",
            "Resolving arxiv.org (arxiv.org)... 151.101.131.42, 151.101.67.42, 151.101.195.42, ...\n",
            "Connecting to arxiv.org (arxiv.org)|151.101.131.42|:443... connected.\n",
            "HTTP request sent, awaiting response... 200 OK\n",
            "Length: 6389 (6.2K) [text/csv]\n",
            "Saving to: ‘get_monthly_submissions’\n",
            "\n",
            "\rget_monthly_submiss   0%[                    ]       0  --.-KB/s               \rget_monthly_submiss 100%[===================>]   6.24K  --.-KB/s    in 0s      \n",
            "\n",
            "2025-04-11 13:11:21 (66.1 MB/s) - ‘get_monthly_submissions’ saved [6389/6389]\n",
            "\n"
          ]
        }
      ]
    },
    {
      "cell_type": "code",
      "source": [
        "! head ./demofiles/get_monthly_submissions"
      ],
      "metadata": {
        "colab": {
          "base_uri": "https://localhost:8080/"
        },
        "id": "7-d2KrobPC08",
        "outputId": "be68a20e-8df0-4cc5-eb46-6181c2d80e10"
      },
      "execution_count": 111,
      "outputs": [
        {
          "output_type": "stream",
          "name": "stdout",
          "text": [
            "month,submissions,historical_delta\n",
            "1991-07,2,-2\n",
            "1991-08,28,-1\n",
            "1991-09,58,0\n",
            "1991-10,76,0\n",
            "1991-11,64,0\n",
            "1991-12,78,0\n",
            "1992-01,193,-105\n",
            "1992-02,134,-10\n",
            "1992-03,120,-3\n"
          ]
        }
      ]
    },
    {
      "cell_type": "code",
      "source": [
        "! sed 's/\\-[0-9]*//g' ./demofiles/get_monthly_submissions"
      ],
      "metadata": {
        "colab": {
          "base_uri": "https://localhost:8080/"
        },
        "id": "EMdjF01-Pw57",
        "outputId": "8231270b-f356-4b87-bc01-6be03b2e47bb"
      },
      "execution_count": null,
      "outputs": [
        {
          "output_type": "stream",
          "name": "stdout",
          "text": [
            "month,submissions,historical_delta\n",
            "1991,2,\n",
            "1991,28,\n",
            "1991,58,0\n",
            "1991,76,0\n",
            "1991,64,0\n",
            "1991,78,0\n",
            "1992,193,\n",
            "1992,134,\n",
            "1992,120,\n",
            "1992,225,\n",
            "1992,237,\n",
            "1992,237,\n",
            "1992,296,\n",
            "1992,227,\n",
            "1992,336,\n",
            "1992,401,\n",
            "1992,453,\n",
            "1992,404,\n",
            "1993,400,\n",
            "1993,428,\n",
            "1993,504,\n",
            "1993,505,\n",
            "1993,538,\n",
            "1993,536,\n",
            "1993,643,\n",
            "1993,541,\n",
            "1993,518,\n",
            "1993,678,\n",
            "1993,714,\n",
            "1993,738,\n",
            "1994,610,\n",
            "1994,653,\n",
            "1994,753,\n",
            "1994,738,\n",
            "1994,841,\n",
            "1994,888,\n",
            "1994,863,\n",
            "1994,766,\n",
            "1994,884,\n",
            "1994,932,\n",
            "1994,1114,\n",
            "1994,1055,\n",
            "1995,933,\n",
            "1995,977,\n",
            "1995,1168,\n",
            "1995,913,\n",
            "1995,1110,\n",
            "1995,1195,\n",
            "1995,1017,\n",
            "1995,1030,\n",
            "1995,1133,\n",
            "1995,1229,\n",
            "1995,1162,\n",
            "1995,1147,\n",
            "1996,1051,\n",
            "1996,1076,\n",
            "1996,1169,\n",
            "1996,1220,\n",
            "1996,1358,\n",
            "1996,1311,\n",
            "1996,1424,\n",
            "1996,1394,\n",
            "1996,1474,\n",
            "1996,1520,\n",
            "1996,1402,\n",
            "1996,1467,\n",
            "1997,1308,\n",
            "1997,1362,\n",
            "1997,1411,\n",
            "1997,1468,\n",
            "1997,1581,\n",
            "1997,1709,\n",
            "1997,1804,\n",
            "1997,1426,\n",
            "1997,1882,\n",
            "1997,2007,\n",
            "1997,1717,\n",
            "1997,1949,\n",
            "1998,1723,\n",
            "1998,1668,0\n",
            "1998,1911,\n",
            "1998,1747,\n",
            "1998,1918,\n",
            "1998,2089,\n",
            "1998,2101,\n",
            "1998,1826,\n",
            "1998,2414,\n",
            "1998,2330,\n",
            "1998,2242,\n",
            "1998,2203,\n",
            "1999,1850,\n",
            "1999,1919,\n",
            "1999,2394,\n",
            "1999,2156,\n",
            "1999,2221,\n",
            "1999,2427,\n",
            "1999,2414,\n",
            "1999,2139,\n",
            "1999,2502,\n",
            "1999,2571,\n",
            "1999,2518,\n",
            "1999,2593,\n",
            "2000,2365,\n",
            "2000,2366,0\n",
            "2000,2600,\n",
            "2000,2077,\n",
            "2000,2727,\n",
            "2000,2439,\n",
            "2000,2461,\n",
            "2000,2613,\n",
            "2000,2522,\n",
            "2000,2913,\n",
            "2000,2864,\n",
            "2000,2654,\n",
            "2001,2591,\n",
            "2001,2429,\n",
            "2001,2713,\n",
            "2001,2606,\n",
            "2001,2912,\n",
            "2001,2871,\n",
            "2001,2760,\n",
            "2001,2422,0\n",
            "2001,2548,\n",
            "2001,3404,\n",
            "2001,3240,\n",
            "2001,2718,\n",
            "2002,2716,\n",
            "2002,2567,\n",
            "2002,2666,\n",
            "2002,2853,\n",
            "2002,3089,\n",
            "2002,2695,0\n",
            "2002,3269,\n",
            "2002,2725,0\n",
            "2002,3314,\n",
            "2002,3531,0\n",
            "2002,3440,\n",
            "2002,3256,\n",
            "2003,2926,0\n",
            "2003,2881,0\n",
            "2003,3018,0\n",
            "2003,3102,0\n",
            "2003,3267,0\n",
            "2003,3463,0\n",
            "2003,3418,0\n",
            "2003,2741,0\n",
            "2003,3747,\n",
            "2003,3841,0\n",
            "2003,3349,0\n",
            "2003,3661,0\n",
            "2004,3071,0\n",
            "2004,3277,\n",
            "2004,3603,0\n",
            "2004,3369,\n",
            "2004,3553,0\n",
            "2004,3710,0\n",
            "2004,3679,0\n",
            "2004,3294,0\n",
            "2004,3939,0\n",
            "2004,4086,0\n",
            "2004,4152,0\n",
            "2004,3994,0\n",
            "2005,3493,0\n",
            "2005,3250,0\n",
            "2005,3881,0\n",
            "2005,3693,0\n",
            "2005,3779,0\n",
            "2005,3984,0\n",
            "2005,3839,0\n",
            "2005,3775,0\n",
            "2005,4345,\n",
            "2005,4439,0\n",
            "2005,4294,0\n",
            "2005,4083,0\n",
            "2006,3858,0\n",
            "2006,3520,0\n",
            "2006,4213,0\n",
            "2006,3474,0\n",
            "2006,4204,0\n",
            "2006,4139,0\n",
            "2006,4197,0\n",
            "2006,4064,0\n",
            "2006,4275,0\n",
            "2006,5133,0\n",
            "2006,4854,0\n",
            "2006,4296,0\n",
            "2007,4653,0\n",
            "2007,4164,0\n",
            "2007,4493,0\n",
            "2007,4003,0\n",
            "2007,4684,0\n",
            "2007,4484,0\n",
            "2007,4681,0\n",
            "2007,4414,0\n",
            "2007,4682,0\n",
            "2007,5945,0\n",
            "2007,5029,0\n",
            "2007,4406,0\n",
            "2008,4970,0\n",
            "2008,4463,0\n",
            "2008,4519,0\n",
            "2008,4898,0\n",
            "2008,4836,0\n",
            "2008,4980,0\n",
            "2008,5139,0\n",
            "2008,4160,0\n",
            "2008,5287,0\n",
            "2008,5773,0\n",
            "2008,4774,0\n",
            "2008,5116,0\n",
            "2009,4975,0\n",
            "2009,4903,0\n",
            "2009,5547,0\n",
            "2009,4930,0\n",
            "2009,4955,0\n",
            "2009,5614,0\n",
            "2009,5606,0\n",
            "2009,4597,0\n",
            "2009,5696,0\n",
            "2009,5957,0\n",
            "2009,5730,0\n",
            "2009,5537,0\n",
            "2010,5471,0\n",
            "2010,5048,0\n",
            "2010,6133,0\n",
            "2010,5602,0\n",
            "2010,5737,0\n",
            "2010,5963,0\n",
            "2010,5521,0\n",
            "2010,5399,0\n",
            "2010,6232,0\n",
            "2010,6304,0\n",
            "2010,6676,0\n",
            "2010,6045,0\n",
            "2011,6081,0\n",
            "2011,5774,0\n",
            "2011,6286,0\n",
            "2011,5711,0\n",
            "2011,6374,0\n",
            "2011,6357,0\n",
            "2011,6046,0\n",
            "2011,6331,0\n",
            "2011,6937,0\n",
            "2011,6930,0\n",
            "2011,7319,0\n",
            "2011,6432,0\n",
            "2012,6687,0\n",
            "2012,6685,0\n",
            "2012,6903,0\n",
            "2012,6739,0\n",
            "2012,7092,0\n",
            "2012,7121,0\n",
            "2012,7358,0\n",
            "2012,6592,0\n",
            "2012,6630,0\n",
            "2012,8452,0\n",
            "2012,7370,0\n",
            "2012,6974,0\n",
            "2013,7750,0\n",
            "2013,7317,0\n",
            "2013,7476,0\n",
            "2013,8135,0\n",
            "2013,7516,0\n",
            "2013,6944,0\n",
            "2013,8447,0\n",
            "2013,6833,0\n",
            "2013,7995,0\n",
            "2013,8658,0\n",
            "2013,7692,0\n",
            "2013,7878,0\n",
            "2014,8294,0\n",
            "2014,7374,0\n",
            "2014,8154,0\n",
            "2014,7855,0\n",
            "2014,7975,0\n",
            "2014,7874,0\n",
            "2014,8549,0\n",
            "2014,7119,0\n",
            "2014,8676,0\n",
            "2014,8871,0\n",
            "2014,8006,0\n",
            "2014,8770,0\n",
            "2015,7912,0\n",
            "2015,8054,0\n",
            "2015,9191,0\n",
            "2015,8367,0\n",
            "2015,8172,0\n",
            "2015,9217,0\n",
            "2015,8995,0\n",
            "2015,7983,0\n",
            "2015,9318,0\n",
            "2015,9223,0\n",
            "2015,9472,0\n",
            "2015,9376,0\n",
            "2016,8251,0\n",
            "2016,9142,0\n",
            "2016,9746,0\n",
            "2016,8948,0\n",
            "2016,9792,0\n",
            "2016,9644,0\n",
            "2016,8911,0\n",
            "2016,9016,0\n",
            "2016,9869,0\n",
            "2016,10100,0\n",
            "2016,10362,0\n",
            "2016,9599,0\n",
            "2017,9186,0\n",
            "2017,8910,0\n",
            "2017,11008,0\n",
            "2017,9029,0\n",
            "2017,11194,0\n",
            "2017,10297,0\n",
            "2017,9980,0\n",
            "2017,9854,0\n",
            "2017,10517,0\n",
            "2017,11627,0\n",
            "2017,11589,0\n",
            "2017,10332,0\n",
            "2018,10609,0\n",
            "2018,10593,0\n",
            "2018,11560,0\n",
            "2018,11352,0\n",
            "2018,12595,0\n",
            "2018,11568,0\n",
            "2018,11938,0\n",
            "2018,10870,0\n",
            "2018,11171,0\n",
            "2018,13446,0\n",
            "2018,12941,0\n",
            "2018,11973,0\n",
            "2019,11537,0\n",
            "2019,11302,0\n",
            "2019,12654,0\n",
            "2019,13396,0\n",
            "2019,13750,0\n",
            "2019,12350,0\n",
            "2019,13634,0\n",
            "2019,11868,0\n",
            "2019,13881,0\n",
            "2019,14675,0\n",
            "2019,13302,0\n",
            "2019,13517,0\n",
            "2020,12010,0\n",
            "2020,12932,0\n",
            "2020,14415,0\n",
            "2020,15025,0\n",
            "2020,14719,0\n",
            "2020,17000,0\n",
            "2020,16208,0\n",
            "2020,13781,0\n",
            "2020,14827,0\n",
            "2020,16418,0\n",
            "2020,15130,0\n",
            "2020,15864,0\n",
            "2021,12747,0\n",
            "2021,13656,0\n",
            "2021,17273,0\n",
            "2021,15141,0\n",
            "2021,15205,0\n",
            "2021,16248,0\n",
            "2021,14803,0\n",
            "2021,14006,0\n",
            "2021,15322,0\n",
            "2021,15960,0\n",
            "2021,15673,0\n",
            "2021,15596,0\n",
            "2022,13452,0\n",
            "2022,14038,0\n",
            "2022,17276,0\n",
            "2022,14274,0\n",
            "2022,16008,0\n",
            "2022,15478,0\n",
            "2022,14814,0\n",
            "2022,15003,0\n",
            "2022,15640,0\n",
            "2022,17551,0\n",
            "2022,17271,0\n",
            "2022,14887,0\n",
            "2023,13870,0\n",
            "2023,14863,0\n",
            "2023,18249,0\n",
            "2023,15010,0\n",
            "2023,20092,0\n",
            "2023,17848,0\n",
            "2023,16897,0\n",
            "2023,16912,0\n",
            "2023,17453,0\n",
            "2023,20710,0\n",
            "2023,18841,0\n",
            "2023,17748,0\n",
            "2024,18085,0\n",
            "2024,19481,0\n",
            "2024,20332,0\n",
            "2024,19761,0\n",
            "2024,21076,0\n",
            "2024,20099,0\n",
            "2024,21794,0\n",
            "2024,17451,0\n",
            "2024,20569,0\n",
            "2024,24226,0\n",
            "2024,19951,0\n",
            "2024,21206,0\n",
            "2025,19407,0\n",
            "2025,21321,0\n",
            "2025,24391,0\n",
            "2025,7966,0\n"
          ]
        }
      ]
    },
    {
      "cell_type": "code",
      "source": [
        "! sed 's/\\-[0-9]*//g' ./demofiles/get_monthly_submissions | awk -F\",\" '{a[$1]+=$2} END {for (i in a) print i FS a[i]}' | sort\n"
      ],
      "metadata": {
        "colab": {
          "base_uri": "https://localhost:8080/"
        },
        "id": "sL45jGBAPfD2",
        "outputId": "c36248b5-942e-4191-cc22-c413d90c24f8"
      },
      "execution_count": null,
      "outputs": [
        {
          "output_type": "stream",
          "name": "stdout",
          "text": [
            "1991,306\n",
            "1992,3263\n",
            "1993,6743\n",
            "1994,10097\n",
            "1995,13014\n",
            "1996,15866\n",
            "1997,19624\n",
            "1998,24172\n",
            "1999,27704\n",
            "2000,30601\n",
            "2001,33214\n",
            "2002,36121\n",
            "2003,39414\n",
            "2004,43727\n",
            "2005,46855\n",
            "2006,50227\n",
            "2007,55638\n",
            "2008,58915\n",
            "2009,64047\n",
            "2010,70131\n",
            "2011,76578\n",
            "2012,84603\n",
            "2013,92641\n",
            "2014,97517\n",
            "2015,105280\n",
            "2016,113380\n",
            "2017,123523\n",
            "2018,140616\n",
            "2019,155866\n",
            "2020,178329\n",
            "2021,181630\n",
            "2022,185692\n",
            "2023,208493\n",
            "2024,244031\n",
            "2025,73085\n",
            "month,0\n"
          ]
        }
      ]
    },
    {
      "cell_type": "code",
      "source": [
        "import random\n",
        "import string\n",
        "\n",
        "def generate_random_text(length):\n",
        "    letters = string.ascii_letters + string.digits + string.punctuation + '\\n'\n",
        "    return ''.join(random.choice(letters) for i in range(length))\n",
        "\n",
        "def write_random_text_to_file(filename, length):\n",
        "    random_text = generate_random_text(length)\n",
        "    with open(filename, 'w') as file:\n",
        "        file.write(random_text)\n",
        "\n",
        "# Example usage\n",
        "filename = 'random_text.txt'\n",
        "length = 10000  # Length of the random text\n",
        "write_random_text_to_file(os.path.join(\"demofiles\",filename), length)"
      ],
      "metadata": {
        "id": "pP-dOXgva_qA"
      },
      "execution_count": 153,
      "outputs": []
    },
    {
      "cell_type": "code",
      "source": [
        "!head demofiles/random_text.txt\n",
        "!wc -l demofiles/random_text.txt"
      ],
      "metadata": {
        "colab": {
          "base_uri": "https://localhost:8080/"
        },
        "id": "ddPG8WjwbjPU",
        "outputId": "7d57737a-b3f3-465d-feed-71075d5cc184"
      },
      "execution_count": 157,
      "outputs": [
        {
          "output_type": "stream",
          "name": "stdout",
          "text": [
            "KwhLV>?.g$,RL1>Ay+O(.\n",
            "]xie30Z*C2^<oZ\"7w381=iM)p9M\\E+Ua(.1o!N=^n=qizy^7A[o)K]^{y?4V21Ot#c_|hCPM%z%EF;UTi^Z.Svpq/B\n",
            ":nv|t&}LN-Yqp`so]7^)jl!`6TyySPy2r_c/%`!aBfL:Uy'-\\ShjEY\\F8*YlV~>7JY}Aqyb?'&?''~J%cMyz;73/,c~g6:J<jAc!#;~4{6<C_ZESu(QYx=ph[$2<2B;;Kp2CE8vmk)._8PfjHcJ$>7u$d{]6Kj<HST=&`P6u-}-aeF=aq$k:f\\/U5x>+$rMa2S}+J<z!eGGnR9B~P%^{p&,|?$$IRHk:*=lU]Vqui\n",
            "Mi'~w.^sts`V8gr\"4Bn=z-4nGe3S|p<$#cxnF@/1N89(-\\bJJPd\n",
            "S..E@/[M0B)5-od>f=A^$a;pb'm|52fYJ/>?:VdHi\n",
            "2x<Dy|.$DTs-l\"p'HvGOKVDy=$~v1/sDVM\n",
            "umLt)/$*C'C><VMt/A!%XG_zq;=B((!E0CEA4vEx`qIAl+~)zWl6u-yd79\n",
            "*WnS'D+Us`=b/\n",
            "eAKZ5axw;'I;/FlD#7zM,3/{]C[S.k]h1\n",
            "CXi3q:q<IOFMlL.Co#9[Uh^iiC@DG~xQU1/8~.%|M.]hk6cfprWW>bv^\n",
            "108 demofiles/random_text.txt\n"
          ]
        }
      ]
    },
    {
      "cell_type": "code",
      "source": [
        "# Perhaps we wish to take a sample of a very large file?\n",
        "!awk 'BEGIN {srand()} !/^$/ { if (rand() <= .1) print $0}' demofiles/random_text.txt #should print about 10 lines\n",
        "# This takes linear time"
      ],
      "metadata": {
        "colab": {
          "base_uri": "https://localhost:8080/"
        },
        "id": "R0ohsidpa65A",
        "outputId": "65ecdf5a-9d95-41cc-9914-b6d804b81a27"
      },
      "execution_count": 159,
      "outputs": [
        {
          "output_type": "stream",
          "name": "stdout",
          "text": [
            "CXi3q:q<IOFMlL.Co#9[Uh^iiC@DG~xQU1/8~.%|M.]hk6cfprWW>bv^\n",
            "AGR]6(=;_(7U.U]-sboZ1]8{\"vz_*-fLaZj,DShP\n",
            "VgEv!]J@hM;^<E~\\C?^'&TT33RDZQ[fav[,hPISFX|(GR<4Ea-!d7-.pPrUEgf'(E?BfvC:R(n?OQ]qs\n",
            "q$^k(ydY(`$Lfa?k^OFm?(pFq=k.OCwmkI{fMN_%BXAMYaD|ue,QnCw&Ow:G0._%O.$u'lFDNFx!uw7r8Ny*5._5w094(t*T#\"'SKGt}:[gV,_:g%jFbupN^ti|J\"u'nx4NsVtB(Jl@BBOj>1>bcnw|SN!}<A%*r>VloIN}]`LwmvTD98Z\"pUCdzw|a3Ez9%;}T29Xz:V~!J~|FExU9Zt=OJa4sC8:&s>:s1HJ\\8i2bQ.}Z#1C?[KfnR_-;pYS7HhEwN#C2^PUpRq-V+S$,,3pDS\n",
            "Y_?)r^tLvEtN%@D.2hHeX7/Q\"jIWPp.igteCw5e>R`xfazr<H`6@)fz!EVHo+D+i9~+e55_/<BxplwJWE4epp\\qbDvL+W30s,,6HHl?>.M?b.3d-[g8ZXKDb\n",
            "$.w(M;3}0828xhXp\"BihbL\"rwUg-~D.+J>Ewmj&ytzr4y$^\\yEg1XXh,A)8K?$*w<xTflD4!;c$-5V^k%<Kkl&npSmCqCM/\n",
            "WMPp_m%z=1Nm/hN6@^/QYoXzW<Gj.&JfJk8Gb_Q*rg{:}>v'[0(GHTwESg4D^/@UI%SoI&k=q[[pS`%JtVHv0|he[JU\n",
            "}qA8>k*n#({b.n~k\n",
            "\\,C.pJ(d!*\\g4@-a{d~P{X<j6FtnfqUID{MYgxq0l%VTCdikQexG#g)q~d64r~%x|i2<5\"6kyxSaT[L^V=klD%T.7]F.Qt|e{z'~JMM@&o&Lftkt:xd}~kT;4h!T)~JF(h8/'Xm3'IExfC>aH1/$>q{fV3J*8Mj#GF5m_J2?*hM/QL|'G|KR1yFR7'8F7L[bc{|i3V838@X?.?Pg1B.,uq=ip`UYIEC|=)N*q7EE7~405^O2Sj9^Q\\IA~>$y_J|}K&e~BiH\n"
          ]
        }
      ]
    },
    {
      "cell_type": "code",
      "source": [],
      "metadata": {
        "id": "C6rueYZqbsbS"
      },
      "execution_count": null,
      "outputs": []
    }
  ]
}