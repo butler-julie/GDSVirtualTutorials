{
  "nbformat": 4,
  "nbformat_minor": 0,
  "metadata": {
    "colab": {
      "provenance": []
    },
    "kernelspec": {
      "name": "python3",
      "display_name": "Python 3"
    },
    "language_info": {
      "name": "python"
    }
  },
  "cells": [
    {
      "cell_type": "markdown",
      "source": [
        "# We all deal in plain text at some level"
      ],
      "metadata": {
        "id": "_yIdBXQeyMCS"
      }
    },
    {
      "cell_type": "markdown",
      "source": [
        "## How much of your data is in text or is converted to a text format at some point?"
      ],
      "metadata": {
        "id": "MAxSBWmlyP-E"
      }
    },
    {
      "cell_type": "markdown",
      "source": [
        "### Let's generate some fake data to play with:"
      ],
      "metadata": {
        "id": "qKfbIngE_I3g"
      }
    },
    {
      "cell_type": "code",
      "execution_count": 1,
      "metadata": {
        "id": "JR1Rzlau7fod"
      },
      "outputs": [],
      "source": [
        "! mkdir demofiles"
      ]
    },
    {
      "cell_type": "code",
      "source": [
        "import pandas as pd\n",
        "import random\n",
        "import os"
      ],
      "metadata": {
        "id": "NzT8Y3v4zPSg"
      },
      "execution_count": 2,
      "outputs": []
    },
    {
      "cell_type": "code",
      "source": [
        "df = pd.DataFrame({\n",
        "    'letter': list(map(lambda x: chr(x), range(ord('a'), ord('z')+1))),\n",
        "    'number': range(1,52,2),\n",
        "    'bool': [not not random.randint(0,2) for i in range(26)]\n",
        "})"
      ],
      "metadata": {
        "id": "9g4xh_1XzW5T"
      },
      "execution_count": 3,
      "outputs": []
    },
    {
      "cell_type": "code",
      "source": [
        "df.to_csv(os.path.join(\"demofiles\",\"data1.csv\"))"
      ],
      "metadata": {
        "id": "iZspFPIP0gS6"
      },
      "execution_count": 4,
      "outputs": []
    },
    {
      "cell_type": "code",
      "source": [
        "!ls demofiles"
      ],
      "metadata": {
        "colab": {
          "base_uri": "https://localhost:8080/"
        },
        "id": "t3NGcoXP8VNt",
        "outputId": "2286d971-9c1d-4985-85aa-abdbf0f25766"
      },
      "execution_count": 5,
      "outputs": [
        {
          "output_type": "stream",
          "name": "stdout",
          "text": [
            "data1.csv\n"
          ]
        }
      ]
    },
    {
      "cell_type": "code",
      "source": [
        "! wget https://arxiv.org/stats/get_monthly_submissions\n",
        "! mv get_monthly_submissions demofiles"
      ],
      "metadata": {
        "colab": {
          "base_uri": "https://localhost:8080/"
        },
        "id": "7-d2KrobPC08",
        "outputId": "10d7916e-4cfd-4427-a658-c274893d12b5"
      },
      "execution_count": 6,
      "outputs": [
        {
          "output_type": "stream",
          "name": "stdout",
          "text": [
            "--2025-04-11 16:32:14--  https://arxiv.org/stats/get_monthly_submissions\n",
            "Resolving arxiv.org (arxiv.org)... 151.101.67.42, 151.101.195.42, 151.101.3.42, ...\n",
            "Connecting to arxiv.org (arxiv.org)|151.101.67.42|:443... connected.\n",
            "HTTP request sent, awaiting response... 200 OK\n",
            "Length: 6389 (6.2K) [text/csv]\n",
            "Saving to: ‘get_monthly_submissions’\n",
            "\n",
            "get_monthly_submiss 100%[===================>]   6.24K  --.-KB/s    in 0s      \n",
            "\n",
            "2025-04-11 16:32:14 (30.8 MB/s) - ‘get_monthly_submissions’ saved [6389/6389]\n",
            "\n"
          ]
        }
      ]
    },
    {
      "cell_type": "code",
      "source": [
        "import random\n",
        "import string\n",
        "\n",
        "def generate_random_text(length):\n",
        "    letters = string.ascii_letters + string.digits + string.punctuation + '\\n'\n",
        "    return ''.join(random.choice(letters) for i in range(length))\n",
        "\n",
        "def write_random_text_to_file(filename, length):\n",
        "    random_text = generate_random_text(length)\n",
        "    with open(filename, 'w') as file:\n",
        "        file.write(random_text)\n",
        "\n",
        "# Example usage\n",
        "filename = 'random_text.txt'\n",
        "length = 10000  # Length of the random text\n",
        "write_random_text_to_file(os.path.join(\"demofiles\",filename), length)"
      ],
      "metadata": {
        "id": "pP-dOXgva_qA"
      },
      "execution_count": 7,
      "outputs": []
    },
    {
      "cell_type": "code",
      "source": [],
      "metadata": {
        "id": "C6rueYZqbsbS"
      },
      "execution_count": null,
      "outputs": []
    }
  ]
}